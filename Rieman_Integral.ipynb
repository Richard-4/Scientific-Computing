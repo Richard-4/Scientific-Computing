{
 "cells": [
  {
   "attachments": {},
   "cell_type": "markdown",
   "metadata": {},
   "source": [
    "<span style=\"font-size:25px\"><b>Rieman Integral</b></span>\n",
    "\n",
    "<span style=\"font-size:15px\"><b style=\"color:yellow\">Rieman Integral</b> adalah cara untuk menghitung luas daerah di bawah sebuah kurva</span>\n",
    "<br>\n",
    "<span style=\"font-size:15px\">Rieman Integral akan membagi daerah menjadi n jumlah kotak, lalu menghitung luas masing-masing kotak</span>\n",
    "\n",
    "<span style=\"font-size:15px\">4 jenis Reiman Integral :</span>\n",
    "<ol style=\"font-size:15px\">\n",
    "    <li>Left Rieman</li>\n",
    "    <li>Right Rieman</li>\n",
    "    <li>Midpoint rule</li>\n",
    "    <li>Trapezoid rulle</li>\n",
    "</ol>\n",
    "\n",
    "<hr>\n",
    "<span style=\"font-size:20px\"><b>Steps : </b></span>\n",
    "\n",
    "<ol style=\"font-size:15px\">\n",
    "    <li>Tentukan function</li>\n",
    "    <li>Tentukan jumlah kotak</li>\n",
    "    <li>Hitung lebar masing-masing kotak</li>\n",
    "    <li>Hitung panjang masing-masing kotak</li>\n",
    "    <li>Gunakan Rule yang ingin digunakan</li>\n",
    "</ol>"
   ]
  },
  {
   "attachments": {},
   "cell_type": "markdown",
   "metadata": {},
   "source": [
    "<span style=\"font-size:25px\"><b>Code :</b></span>"
   ]
  },
  {
   "cell_type": "code",
   "execution_count": 5,
   "metadata": {},
   "outputs": [],
   "source": [
    "import numpy as np"
   ]
  },
  {
   "cell_type": "code",
   "execution_count": 6,
   "metadata": {},
   "outputs": [],
   "source": [
    "# define persamaan matematikanya\n",
    "def f(X):\n",
    "    return X**2 - 5"
   ]
  },
  {
   "cell_type": "code",
   "execution_count": 21,
   "metadata": {},
   "outputs": [],
   "source": [
    "def rieman_intgral_calculator(range_kiri, range_kanan, jumlah_titik):\n",
    "    lebar_kotak = (range_kanan - range_kiri)/(jumlah_titik - 1)\n",
    "    \n",
    "    x = np.linspace(range_kiri, range_kanan, jumlah_titik)\n",
    "    y = f(x)\n",
    "\n",
    "    left_rieman = lebar_kotak * sum(y[0:jumlah_titik - 1])\n",
    "    print('left =', left_rieman)\n",
    "\n",
    "    right_rieman = lebar_kotak * sum(y[1:])\n",
    "    print('right =', right_rieman)\n",
    "\n",
    "    x_mid = (x[0:jumlah_titik - 1] + x[1:])/2\n",
    "    y_mid = f(x_mid)\n",
    "\n",
    "    mid_rieman = lebar_kotak * sum(y_mid)\n",
    "    print('mid =', mid_rieman)\n",
    "\n",
    "    trapezoid = lebar_kotak / 2 * (y[0] + y[jumlah_titik - 1] + sum(2 * y [1:jumlah_titik-1]))\n",
    "    print('trapezoid =', trapezoid)"
   ]
  },
  {
   "cell_type": "code",
   "execution_count": 23,
   "metadata": {},
   "outputs": [
    {
     "name": "stdout",
     "output_type": "stream",
     "text": [
      "left = 20.55555555555555\n",
      "right = 27.55555555555555\n",
      "mid = 23.972222222222218\n",
      "trapezoid = 24.05555555555555\n"
     ]
    }
   ],
   "source": [
    "rieman_intgral_calculator(2, 5, 10)"
   ]
  }
 ],
 "metadata": {
  "kernelspec": {
   "display_name": "Python 3",
   "language": "python",
   "name": "python3"
  },
  "language_info": {
   "codemirror_mode": {
    "name": "ipython",
    "version": 3
   },
   "file_extension": ".py",
   "mimetype": "text/x-python",
   "name": "python",
   "nbconvert_exporter": "python",
   "pygments_lexer": "ipython3",
   "version": "3.10.0 (tags/v3.10.0:b494f59, Oct  4 2021, 19:00:18) [MSC v.1929 64 bit (AMD64)]"
  },
  "orig_nbformat": 4,
  "vscode": {
   "interpreter": {
    "hash": "52634da84371cba311ea128a5ea7cdc41ff074b781779e754b270ff9f8153cee"
   }
  }
 },
 "nbformat": 4,
 "nbformat_minor": 2
}
