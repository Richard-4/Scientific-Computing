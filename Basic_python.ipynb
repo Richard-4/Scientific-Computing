{
  "cells": [
    {
      "cell_type": "markdown",
      "metadata": {
        "id": "s1wGVUDPdxSE"
      },
      "source": [
        "**Python Basics**"
      ]
    },
    {
      "cell_type": "code",
      "execution_count": 2,
      "metadata": {
        "colab": {
          "base_uri": "https://localhost:8080/"
        },
        "id": "TX8UjG2rd2QE",
        "outputId": "8238f2c7-74d3-4d19-e14a-f7bc20d89772"
      },
      "outputs": [
        {
          "name": "stdout",
          "output_type": "stream",
          "text": [
            "Hello World! Hello World! --- Hello World!\n"
          ]
        }
      ],
      "source": [
        "#\"\", end = \"\" string yang menggantikan /n di python\n",
        "print(\"Hello World!\", end=\" \")\n",
        "print(\"Hello World!\", end =\" -- \")\n",
        "print(\"Hello World!\")"
      ]
    },
    {
      "cell_type": "code",
      "execution_count": 10,
      "metadata": {
        "colab": {
          "base_uri": "https://localhost:8080/"
        },
        "id": "aBEhu7TDeW71",
        "outputId": "b1b6bdb2-cb01-4327-87b5-6e36736e85d9"
      },
      "outputs": [
        {
          "name": "stdout",
          "output_type": "stream",
          "text": [
            "Angka adalah : 10\n",
            "Angka adalah : 10\n",
            "Angka adalah : sepuluh\n"
          ]
        }
      ],
      "source": [
        "# Losely Typed artinya datanya gak kayak C gk pasti integer/character/\n",
        "# cara buat variable di py : [Nama variable] = [value] gk perlu kasih spesific data type\n",
        "\n",
        "num = 10\n",
        "print(\"Angka adalah :\", num)\n",
        "\n",
        "# f menandakan print dengan format\n",
        "print(f\"Angka adalah : {num}\")\n",
        "\n",
        "#variable num dapat diisi dengan stirng karena losely type\n",
        "num = \"sepuluh\"\n",
        "print(f\"Angka adalah : {num}\")"
      ]
    },
    {
      "cell_type": "code",
      "execution_count": 6,
      "metadata": {
        "id": "wNA9ZjWyf3a7"
      },
      "outputs": [
        {
          "name": "stdout",
          "output_type": "stream",
          "text": [
            "Tambah = 13\n",
            "Kurang = 11\n",
            "Kali = 60\n",
            "Bagi = 2.4\n",
            "Modulo = 0\n",
            "Pangkat = 144\n",
            "Bagi (hasil pasti akan integer) = 1\n",
            "Incerment = 13\n"
          ]
        }
      ],
      "source": [
        "# aritmathic operator : +, _ , *, /, %\n",
        "# operator tambahan \n",
        "# ** -> pangkat \n",
        "# // -> pembagian tapi hasilnya dalam bentuk selalu integer\n",
        "num1 = 12\n",
        "\n",
        "print(\"Tambah =\", num1 + 1)\n",
        "print(\"Kurang =\", num1 - 1)\n",
        "print(\"Kali =\", num1 * 5)\n",
        "print(\"Bagi =\", num1 / 5)\n",
        "print(\"Modulo =\", num1 % 12)\n",
        "print(\"Pangkat =\", num1 ** 2)\n",
        "print(\"Bagi (hasil pasti akan integer) =\", num1 // 7)\n",
        "\n",
        "# gk ada incerment num1++\n",
        "num1 += 1\n",
        "print(\"Incerment =\", num1) "
      ]
    },
    {
      "cell_type": "code",
      "execution_count": 15,
      "metadata": {
        "colab": {
          "base_uri": "https://localhost:8080/"
        },
        "id": "DM4rtn6pg0vk",
        "outputId": "19470ed7-7f23-49d3-e50d-03bf349aa1d2"
      },
      "outputs": [
        {
          "name": "stdout",
          "output_type": "stream",
          "text": [
            "Masuk\n",
            "Di dalam if\n",
            "Nested if flag 1\n"
          ]
        }
      ],
      "source": [
        "# Boolean mengguanakan huruf kapital dia awal\n",
        "flag1 = True\n",
        "flag2 = False\n",
        "# Logical operator di py \n",
        "# && -> and \n",
        "# || -> or\n",
        "#indentasi penting\n",
        "if (flag1 or flag2):\n",
        "  print(\"Masuk\")\n",
        "  print(\"Di dalam if\")\n",
        "  if(flag1):\n",
        "    print(\"Nested if flag 1\")\n",
        "  elif(flag2):\n",
        "    print(\"Nested if flag 2\")\n",
        "elif(flag1):\n",
        "  print(\"if terluar flag1\")"
      ]
    },
    {
      "cell_type": "code",
      "execution_count": 8,
      "metadata": {
        "id": "9oczJNHhjGN1"
      },
      "outputs": [
        {
          "name": "stdout",
          "output_type": "stream",
          "text": [
            "2\n",
            "3\n",
            "4\n",
            "5\n",
            "6\n",
            "7\n",
            "8\n",
            "9\n"
          ]
        }
      ],
      "source": [
        "#looping\n",
        "\n",
        "#while loop\n",
        "#num = 0\n",
        "while(num<10):\n",
        "  print(num)\n",
        "  num+=1\n",
        "\n",
        "#for loop\n",
        "#for [variable] in [array]\n",
        "#range = bakal retrun array\n",
        "#range(awal, akhir, jarak) | range(10) return array 0-10 | range(2, 10) retrun array 2-10 | range(2, 10, 2) return array 2-10 jaraknya 2,4,6,8\n",
        "\n",
        "for i in range(2,10):\n",
        "  print(i)"
      ]
    },
    {
      "cell_type": "code",
      "execution_count": 10,
      "metadata": {
        "colab": {
          "base_uri": "https://localhost:8080/"
        },
        "id": "kL_BFB2AlLOt",
        "outputId": "a11ea903-1df0-43d1-e98d-3148bf432953"
      },
      "outputs": [
        {
          "name": "stdout",
          "output_type": "stream",
          "text": [
            "{'Andy', 'Sugondese', 'Nero', 'John', 'Claudio'}\n",
            "Nero\n",
            "RG\n",
            "[1, 'play', 'watch']\n",
            "{'jalan': 'a', 'no': 69}\n",
            "69\n"
          ]
        }
      ],
      "source": [
        "# List, isi bebas, boleh duplikat, ditandain index\n",
        "nums = [1, 4, 6, 3, 7, 8, \"sepuluh\", \"Lima\", 1]\n",
        "# print(nums)\n",
        "# print(nums[3])\n",
        "\n",
        "# Tuple bisa duplikat, gak bisa diubah kalo udah dideclare, ditandain index\n",
        "animals = (\"singa\", \"Ikan\", \"kingkong\", \"Kambing\", \"Kodok\", \"Kodok\", \"Kingkong\")\n",
        "# print(animals)\n",
        "# print(animals[4])\n",
        "\n",
        "# Set gk bisa duplicate, acak, gk ditandain index\n",
        "names = {\"Andy\", \"John\", \"Sugondese\", \"Sugondese\", \"Sugondese\", \"Nero\", \"Claudio\"}\n",
        "print(names)\n",
        "# Set bisa diubah jadi list\n",
        "names_list = list(names)\n",
        "print(names_list[2])\n",
        "\n",
        "# Dictionary mirip associated array\n",
        "student = {\"name\" : \"RG\", \"age\" : 19, \"hobbies\" : [1, \"play\", \"watch\"], \"address\" : {\"jalan\" : \"a\", \"no\" : 69}}\n",
        "print(student['name'])\n",
        "print(student[\"hobbies\"])\n",
        "print(student[\"address\"])\n",
        "print(student[\"address\"][\"no\"])"
      ]
    },
    {
      "cell_type": "code",
      "execution_count": 40,
      "metadata": {
        "colab": {
          "base_uri": "https://localhost:8080/"
        },
        "id": "lcJ0KnmZq9Vc",
        "outputId": "12219479-740b-4f4f-c999-4d71185898f5"
      },
      "outputs": [
        {
          "name": "stdout",
          "output_type": "stream",
          "text": [
            "[0, 1, 2]\n",
            "[2, 3, 4]\n"
          ]
        }
      ],
      "source": [
        "cake = [0, 1, 2, 3, 4, 5, 6, 7, 8, 9 ,10]\n",
        "# Slicing & Motoring array\n",
        "print(cake[0:3]) # [0:3] artinya indeks 0 - 2\n",
        "print(cake[2:5])"
      ]
    },
    {
      "cell_type": "code",
      "execution_count": 12,
      "metadata": {
        "colab": {
          "base_uri": "https://localhost:8080/",
          "height": 36
        },
        "id": "YGVAivP_p_zS",
        "outputId": "f339a648-399c-4b04-bf14-10c962029b98"
      },
      "outputs": [
        {
          "data": {
            "text/plain": [
              "'Hello World! Nero'"
            ]
          },
          "execution_count": 12,
          "metadata": {},
          "output_type": "execute_result"
        }
      ],
      "source": [
        "# Buat function \n",
        "def printHello(name=\"Nero\"): #default value kalo function dipanggil tanpa parameter maka yg di print default value\n",
        "  return \"Hello World! \" + name\n",
        "\n",
        "printHello()\n",
        "# printHello(\"RG\")"
      ]
    }
  ],
  "metadata": {
    "colab": {
      "collapsed_sections": [],
      "provenance": []
    },
    "kernelspec": {
      "display_name": "Python 3",
      "language": "python",
      "name": "python3"
    },
    "language_info": {
      "codemirror_mode": {
        "name": "ipython",
        "version": 3
      },
      "file_extension": ".py",
      "mimetype": "text/x-python",
      "name": "python",
      "nbconvert_exporter": "python",
      "pygments_lexer": "ipython3",
      "version": "3.10.0 (tags/v3.10.0:b494f59, Oct  4 2021, 19:00:18) [MSC v.1929 64 bit (AMD64)]"
    },
    "vscode": {
      "interpreter": {
        "hash": "52634da84371cba311ea128a5ea7cdc41ff074b781779e754b270ff9f8153cee"
      }
    }
  },
  "nbformat": 4,
  "nbformat_minor": 0
}
