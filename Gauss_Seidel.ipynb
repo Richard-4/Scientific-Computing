{
 "cells": [
  {
   "attachments": {},
   "cell_type": "markdown",
   "metadata": {},
   "source": [
    "<span style=\"font-size:25px\"><b>Gauss Seidel</b></span>\n",
    "\n",
    "\n",
    "<span style=\"font-size:15px; color:yellow\"><b>Apa itu Gauss Seidel</b></span>\n",
    "<br>\n",
    "<span style=\"font-size:15px\"><b>Gauss Seidel</b> adalah salah satu cara/method untuk menyelsaikan sebuah persamaan</span>\n",
    "\n",
    "<span style=\"font-size:15px; color:yellow\"><b>Syarat :</b></span>\n",
    "<br>\n",
    "<span style=\"font-size:15px\"><b>Gauss Seidel</b> memiliki <span style=\"color:yellow\">syarat</span> yaitu persamaan yang diberikan harus <span style=\"color:yellow\">diagonally dominant</span></span>\n",
    "<br>\n",
    "<span style=\"font-size:15px\">Sebuah matrix/persamaan dinyatakan <span style=\"color:yellow\">diagonally dominant</span> jika angka yang terletak pada matrix diagonalnya lebih besar pada dari jumlah row sisanya</span>\n",
    "\n",
    "\n",
    "<span style=\"font-size:15px\"><b style=\"color:yellow\">Contoh :</b></span>\n",
    "<br>\n",
    "<span style=\"font-size:15px\">\n",
    "$\\begin{vmatrix}\n",
    "10a & 4b & 5c\\\\ \n",
    " a & 6b & c\\\\ \n",
    " 3a & b & 6c\n",
    "\\end{vmatrix}\n",
    "\\left.\\begin{matrix}\n",
    "8\\\\ \n",
    "5\\\\ \n",
    "10\n",
    "\\end{matrix}\\right|$\n",
    "dari matrix ini dapat dilihat bahwa di baris pertama maka kita lihat 10 > 4 + 5, lalu di baris kedua 6 > 1 + 1, dan di baris ke tiga 6 > 3 + 1 sehingga dapat disimpulkan bahawa diagonally dominant\n",
    "</span>\n",
    "\n",
    "<hr>\n",
    "<span style=\"font-size:20px\"><b>Steps :</b></span>\n",
    "\n",
    "<ol style=\"font-size:15px\">\n",
    "    <li>Pindahkan ruas diagonalnya menjadi sendiri dan ubah konstanta diagonalnya menjadi 1\n",
    "        <br>\n",
    "        10a + 4b + 5c = 8<br>\n",
    "        a   + 6b +  c = 5<br>\n",
    "        3a  + 6b + 6c = 10<br>\n",
    "        <br>\n",
    "        kita ubah menjadi<br>\n",
    "        a = (8 - 4b - 5c) / 10<br>\n",
    "        b = (5 - a - c) / 6<br>\n",
    "        c = (10 - 3a - 6b) / 6<br>\n",
    "    </li>\n",
    "    <li>Inisialiasi variabel a, b dan c dengan 0</li>\n",
    "    <li>Untuk setiap equation prediksikan nilainya dengan a, b dan c yang bernilai 0</li>\n",
    "    <li>Lakukan step 3 hingga selisih antara 2 titik yang kita hitung menggunakan euclidean distance lebih kecil dari pada epsilon (batas minimum). Dengan itu, persamaan itu bisa dikatakan konvergen (nilai tebakannya mirip dengan nilai aslinya)</li>\n",
    "</ol>"
   ]
  },
  {
   "attachments": {},
   "cell_type": "markdown",
   "metadata": {},
   "source": [
    "<span style=\"font-size:25px\"><b>Code :</b></span>"
   ]
  },
  {
   "cell_type": "code",
   "execution_count": 1,
   "metadata": {},
   "outputs": [],
   "source": [
    "import numpy as np"
   ]
  },
  {
   "cell_type": "code",
   "execution_count": 2,
   "metadata": {},
   "outputs": [],
   "source": [
    "# Equation :\n",
    "# 10a + 4b + 5c = 8\n",
    "# a + 6b + c = 5\n",
    "# 3a + b + 6c = 10\n",
    "\n",
    "# Put coefficient of the equation into list\n",
    "X = [\n",
    "    [10, 4, 5],\n",
    "    [1, 6, 1],\n",
    "    [3, 1, 6]\n",
    "]\n",
    "\n",
    "# then put the result of equation to different list\n",
    "Y = [\n",
    "    8, \n",
    "    5, \n",
    "    10\n",
    "]"
   ]
  },
  {
   "cell_type": "code",
   "execution_count": 3,
   "metadata": {},
   "outputs": [],
   "source": [
    "# Make function for gauss seidel (n is iteration)\n",
    "def gauss_seidel_calculator(x, y, e = 0.01, n = 20) :\n",
    "    x = np.array(x)\n",
    "    y = np.array(y)\n",
    "\n",
    "    # check if equation diagonally dominant or not\n",
    "\n",
    "    # first move the diagonals into a different array\n",
    "    diagonals = np.diag(np.abs(x))\n",
    "    \n",
    "    # then make a sum of except the diagonals\n",
    "    np.fill_diagonal(x, 0)\n",
    "    sum_except_diagonals = np.sum(np.abs(x), axis = 1)\n",
    "\n",
    "    # return false if not diagonally dominant\n",
    "    if not np.all(diagonals > sum_except_diagonals) :\n",
    "        print(\"Not diagonally dominant\")\n",
    "        return False\n",
    "    \n",
    "    # move to other side of equaiton\n",
    "    x = -x\n",
    "\n",
    "    # initialize all result to 0\n",
    "    result_old = np.zeros(x[0].shape)\n",
    "\n",
    "    # iteration\n",
    "    for i in range(n) :\n",
    "        result_new = np.array(result_old)\n",
    "\n",
    "        for j, row in enumerate(x) :\n",
    "            result_new[j] = (y[j] + np.dot(row, result_new)) / diagonals[j]\n",
    "        \n",
    "        # print the iteration\n",
    "        print(\"Iteration -\", i+1, result_new)\n",
    "\n",
    "        # eucledian distance : \n",
    "        # sqrt(power(difference))\n",
    "        diff = np.sqrt(np.dot(result_new - result_old, result_new - result_old))\n",
    "\n",
    "        # check if result already lower then epsilon\n",
    "        if diff < e :\n",
    "            return True\n",
    "        \n",
    "        result_old = result_new\n",
    "    \n",
    "    return False\n"
   ]
  },
  {
   "cell_type": "code",
   "execution_count": 4,
   "metadata": {},
   "outputs": [
    {
     "name": "stdout",
     "output_type": "stream",
     "text": [
      "Iteration - 1 [0.8  0.7  1.15]\n",
      "Iteration - 2 [-0.055       0.65083333  1.58569444]\n",
      "Iteration - 3 [-0.25318056  0.61124769  1.69138233]\n",
      "Iteration - 4 [-0.29019024  0.59980132  1.7117949 ]\n",
      "Iteration - 5 [-0.29581798  0.59733718  1.71501946]\n"
     ]
    },
    {
     "data": {
      "text/plain": [
       "True"
      ]
     },
     "execution_count": 4,
     "metadata": {},
     "output_type": "execute_result"
    }
   ],
   "source": [
    "gauss_seidel_calculator(X, Y)"
   ]
  }
 ],
 "metadata": {
  "kernelspec": {
   "display_name": "Python 3",
   "language": "python",
   "name": "python3"
  },
  "language_info": {
   "codemirror_mode": {
    "name": "ipython",
    "version": 3
   },
   "file_extension": ".py",
   "mimetype": "text/x-python",
   "name": "python",
   "nbconvert_exporter": "python",
   "pygments_lexer": "ipython3",
   "version": "3.10.0 (tags/v3.10.0:b494f59, Oct  4 2021, 19:00:18) [MSC v.1929 64 bit (AMD64)]"
  },
  "orig_nbformat": 4,
  "vscode": {
   "interpreter": {
    "hash": "52634da84371cba311ea128a5ea7cdc41ff074b781779e754b270ff9f8153cee"
   }
  }
 },
 "nbformat": 4,
 "nbformat_minor": 2
}
