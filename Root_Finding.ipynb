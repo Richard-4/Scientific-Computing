{
 "cells": [
  {
   "attachments": {},
   "cell_type": "markdown",
   "metadata": {},
   "source": [
    "<span style=\"font-size:25px\"><b>Root Finding</b></span>\n",
    "\n",
    "\n",
    "<span style=\"font-size:15px\"><b style=\"color:yellow\">Root </b>adalah sebuah titik x pada grafik yang menghasilkan f(x) atau y = 0</span>\n",
    "<br>\n",
    "<span style=\"font-size:15px\">kalau kita hanya mengetahui dua buah titik dan tidak mengetahui bentuk grafiknya seperti apa untuk mencari <b style=\"color:yellow\">root</b> kita dapat menggunakan <b style=\"color:yellow\">bisection method</b></span>\n",
    "\n",
    "\n",
    "<span style=\"font-size:15px\"><b style=\"color:yellow\">bisection method :</b></span>\n",
    "<span style=\"font-size:15px\">konsep utama dari bisection method adalah jika ada titik A dan B, dan kedua titik tersebut yang satu positif dan yang lainnya negatif maka akan ada titik tengah C yang nilainya 0</span>\n",
    "\n",
    "<hr>\n",
    "<span style=\"font-size:20px\"><b>Bisection Method Steps :</b></span>\n",
    "<ol style=\"font-size:15px\">\n",
    "  <li>Tentukan nilai A dan B</li>\n",
    "  <li>Cari nilai tengahnya C</li>\n",
    "  <li>Cek apakah C sudah 0</li>\n",
    "  <li>Jika iya maka root ditemukan, jika belum maka update nilai A dan B</li>\n",
    "</ol>\n",
    "\n",
    "<hr>"
   ]
  },
  {
   "attachments": {},
   "cell_type": "markdown",
   "metadata": {},
   "source": [
    "<span style=\"font-size:20px\"><b>Bisection Method Code :</b></span>"
   ]
  },
  {
   "cell_type": "code",
   "execution_count": 27,
   "metadata": {},
   "outputs": [],
   "source": [
    "import numpy as np"
   ]
  },
  {
   "cell_type": "code",
   "execution_count": 16,
   "metadata": {},
   "outputs": [],
   "source": [
    "def f(x): \n",
    "    return x**2 - 2*x - 3"
   ]
  },
  {
   "cell_type": "code",
   "execution_count": 22,
   "metadata": {},
   "outputs": [],
   "source": [
    "def bisection_method_calculator(a, b, tolerance = 0.01):\n",
    "    # Validasi apakah a dan b\n",
    "    if np.sign(f(a)) == np.sign(f(b)):\n",
    "        print(\"Invalid coordinate\")\n",
    "        return\n",
    "\n",
    "    # Middle point\n",
    "    c = (a + b)/2\n",
    "    f_c = f(c)\n",
    "\n",
    "    # cek middle point sudah root atau belum\n",
    "    if np.abs(f_c) < tolerance:\n",
    "        print(\"Root founded\", c)\n",
    "        return\n",
    "    elif np.sign(f_c) == np.sign(f(a)):\n",
    "        bisection_method_calculator(c, b)\n",
    "    elif np.sign(f_c) == np.sign(f(b)):\n",
    "        bisection_method_calculator(a, c)"
   ]
  },
  {
   "cell_type": "code",
   "execution_count": 24,
   "metadata": {},
   "outputs": [
    {
     "name": "stdout",
     "output_type": "stream",
     "text": [
      "Root founded -1.001953125\n"
     ]
    }
   ],
   "source": [
    "bisection_method_calculator(0, -3)"
   ]
  },
  {
   "attachments": {},
   "cell_type": "markdown",
   "metadata": {},
   "source": [
    "<hr>\n",
    "<span style=\"font-size:20px\"><b>Newton Raphson Method :</b></span>\n",
    "\n",
    "<span style=\"font-size:15px\">Newton Raphson adalah cara mencari root dari garis singgung secara terus menerus</span>\n",
    "<br>\n",
    "<span style=\"font-size:15px\"><b style=\"color:yellow\">Equation : </b>$x_{1} = x_{0} - \\frac{f(x)}{g(x)}$</span>\n",
    "\n",
    "<hr>\n",
    "<span style=\"font-size:20px\"><b>Newton Raphson Method Steps :</b></span>\n",
    "<ol style=\"font-size:15px\">\n",
    "  <li>Tentukan nilai x₀</li>\n",
    "  <li>Mencari root dari garis singgung pada titik x₀</li>\n",
    "  <li>Cek x₁ root atau tidak</li>\n",
    "  <li>Jika iya maka root ditemukan, jika belum maka update nilai x₀ jadi x₁</li>\n",
    "</ol>\n",
    "\n",
    "<hr>"
   ]
  },
  {
   "attachments": {},
   "cell_type": "markdown",
   "metadata": {},
   "source": [
    "<span style=\"font-size:20px\"><b>Newton Raphson Method Code :</b></span>"
   ]
  },
  {
   "cell_type": "code",
   "execution_count": 26,
   "metadata": {},
   "outputs": [],
   "source": [
    "# define funsi matematikanya\n",
    "def f(x):\n",
    "    return x**2 - 2*x - 3\n",
    "\n",
    "# define turunan dari fungsi matematikanya\n",
    "def g(x):\n",
    "    return 2*x - 2"
   ]
  },
  {
   "cell_type": "code",
   "execution_count": 29,
   "metadata": {},
   "outputs": [],
   "source": [
    "def newton_raphson_calculator(x0, tolerance = 0.01):\n",
    "    x1 = x0 - f(x0)/g(x0)\n",
    "\n",
    "    if np.abs(f(x1)) < tolerance :\n",
    "        print(\"Root found\", x1)\n",
    "        return\n",
    "    else :\n",
    "        newton_raphson_calculator(x1)"
   ]
  },
  {
   "cell_type": "code",
   "execution_count": 30,
   "metadata": {},
   "outputs": [
    {
     "name": "stdout",
     "output_type": "stream",
     "text": [
      "Root found 3.0006097560975613\n"
     ]
    }
   ],
   "source": [
    "newton_raphson_calculator(2)"
   ]
  }
 ],
 "metadata": {
  "kernelspec": {
   "display_name": "Python 3",
   "language": "python",
   "name": "python3"
  },
  "language_info": {
   "codemirror_mode": {
    "name": "ipython",
    "version": 3
   },
   "file_extension": ".py",
   "mimetype": "text/x-python",
   "name": "python",
   "nbconvert_exporter": "python",
   "pygments_lexer": "ipython3",
   "version": "3.10.0 (tags/v3.10.0:b494f59, Oct  4 2021, 19:00:18) [MSC v.1929 64 bit (AMD64)]"
  },
  "orig_nbformat": 4,
  "vscode": {
   "interpreter": {
    "hash": "52634da84371cba311ea128a5ea7cdc41ff074b781779e754b270ff9f8153cee"
   }
  }
 },
 "nbformat": 4,
 "nbformat_minor": 2
}
