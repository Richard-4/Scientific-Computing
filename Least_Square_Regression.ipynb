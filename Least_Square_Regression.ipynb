{
 "cells": [
  {
   "attachments": {},
   "cell_type": "markdown",
   "metadata": {},
   "source": [
    "\n",
    "\n",
    "<span style=\"font-size:25px\"><b>Least Square Regression</b></span>\n",
    "\n",
    "<span style=\"font-size:15px; color:yellow\"><b>Apa itu Regression?</b></span>\n",
    "<br>\n",
    "<span style=\"font-size:15px\">Sebuah cara untuk menarik kesimpulan/menarik hubungan antara dua buah data</span>\n",
    "\n",
    "\n",
    "<span style=\"font-size:15px\"><b style=\"color:yellow\">Least Square Regression</b> bertujuan untuk mencari persamaan garis yang paling cocok dengan data, dimana jika diberikan banyak titik pada sebuah graph, kita dapat membuat garis dimana jarak antara setiap titik dengan garis itu minimum</span>\n",
    "\n",
    "\n",
    "<span style=\"font-size:15px\"><b style=\"color:yellow\">Persamaan garis :</b></span>\n",
    "<br>\n",
    "<span style=\"font-size:15px\">y = mx + c</span>\n",
    "<br>\n",
    "<span style=\"font-size:15px\">x, y -> koordinat x, koordinat y</span>\n",
    "<br>\n",
    "<span style=\"font-size:15px\">m -> slope, gradien</span>\n",
    "<br>\n",
    "<span style=\"font-size:15px\">c -> elevation</span>\n",
    "\n",
    "<hr>\n",
    "<span style=\"font-size:20px\"><b>Manual Steps :</b></span>\n",
    "\n",
    "<span style=\"font-size:15px\">1. Untuk setiap titik (x, y) hitunglah x^2 dan xy</span>\n",
    "<br>\n",
    "<span style=\"font-size:15px\">2. Jumlah kan semua data hingga mendapatkan Σx, Σy, Σx^2, Σxy</span>\n",
    "<br>\n",
    "<span style=\"font-size:15px\">3. Hitung gradien dengan N adalah jumlah titik yang ada $$m = \\frac{N \\sum (xy) - \\sum x \\sum y}{N \\sum x^2 (\\sum x)^2}$$</span>\n",
    "<br>\n",
    "<span style=\"font-size:15px\">4. setelah nilai m diketahuin hitung c $$c = \\frac{\\sum y - m \\sum x}{N}$$</span>\n",
    "<br>\n",
    "<span style=\"font-size:15px\">5. lalu subtitusikan hasil nya ke dalam persamaan y = mx + c</span>\n",
    "\n",
    "<hr>\n",
    "<span style=\"font-size:20px\"><b>Matrix Steps :</b></span>\n",
    "\n",
    "\n",
    "<span style=\"font-size:15px\">β = (Aᵀ A)⁻¹ AᵀY</span>\n",
    "<br>\n",
    "<span style=\"font-size:15px\">Dimana β[0] = gradient (m) dan β[1] = intercept (c)</span>\n",
    "<hr>"
   ]
  },
  {
   "attachments": {},
   "cell_type": "markdown",
   "metadata": {},
   "source": [
    "<span style=\"font-size:25px\"><b>Code :</b></span>"
   ]
  },
  {
   "cell_type": "code",
   "execution_count": 5,
   "metadata": {},
   "outputs": [],
   "source": [
    "import matplotlib.pyplot as plt\n",
    "import numpy as np"
   ]
  },
  {
   "cell_type": "code",
   "execution_count": 6,
   "metadata": {},
   "outputs": [],
   "source": [
    "X = [1, 2, 3, 4, 5, 6, 7, 8]\n",
    "Y = [2, 5, 2, 6, 3, 10, 4, 8]"
   ]
  },
  {
   "cell_type": "code",
   "execution_count": 7,
   "metadata": {},
   "outputs": [],
   "source": [
    "def least_sqare_regression_calculator(x, y):\n",
    "    x = np.array(x)\n",
    "    y = np.array(y)\n",
    "\n",
    "    A = np.vstack([x, np.ones(len(x))]).T\n",
    "\n",
    "    # Cara 1\n",
    "    # res = np.dot(np.dot(np.linalg.inv(np.dot(A.T, A)), A.T), y)\n",
    "\n",
    "    # Cara 2\n",
    "    # res = np.linalg.inv(A.T @ A) @ A.T @ y\n",
    "\n",
    "    # Cara 3\n",
    "    res = np.linalg.pinv(A) @ y\n",
    "    \n",
    "    plt.plot(x, y, 'ro')\n",
    "    plt.plot(x, res[0] * x + res[1], 'b')\n",
    "    plt.show()"
   ]
  },
  {
   "cell_type": "code",
   "execution_count": 8,
   "metadata": {},
   "outputs": [
    {
     "data": {
      "image/png": "[encoded data removed]",
      "text/plain": [
       "<Figure size 432x288 with 1 Axes>"
      ]
     },
     "metadata": {
      "needs_background": "light"
     },
     "output_type": "display_data"
    }
   ],
   "source": [
    "least_sqare_regression_calculator(X, Y)\n"
   ]
  }
 ],
 "metadata": {
  "kernelspec": {
   "display_name": "Python 3",
   "language": "python",
   "name": "python3"
  },
  "language_info": {
   "codemirror_mode": {
    "name": "ipython",
    "version": 3
   },
   "file_extension": ".py",
   "mimetype": "text/x-python",
   "name": "python",
   "nbconvert_exporter": "python",
   "pygments_lexer": "ipython3",
   "version": "3.10.0 (tags/v3.10.0:b494f59, Oct  4 2021, 19:00:18) [MSC v.1929 64 bit (AMD64)]"
  },
  "orig_nbformat": 4,
  "vscode": {
   "interpreter": {
    "hash": "52634da84371cba311ea128a5ea7cdc41ff074b781779e754b270ff9f8153cee"
   }
  }
 },
 "nbformat": 4,
 "nbformat_minor": 2
}
